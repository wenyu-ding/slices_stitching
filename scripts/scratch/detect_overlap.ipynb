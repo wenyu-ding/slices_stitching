{
 "metadata": {
  "language_info": {
   "codemirror_mode": {
    "name": "ipython",
    "version": 3
   },
   "file_extension": ".py",
   "mimetype": "text/x-python",
   "name": "python",
   "nbconvert_exporter": "python",
   "pygments_lexer": "ipython3",
   "version": 3
  },
  "orig_nbformat": 2
 },
 "nbformat": 4,
 "nbformat_minor": 2,
 "cells": [
  {
   "cell_type": "code",
   "execution_count": null,
   "metadata": {},
   "outputs": [],
   "source": [
    "# Imports\n",
    "from pathlib import Path\n",
    "import re\n",
    "import matplotlib.pyplot as plt\n",
    "import numpy as np\n",
    "from sklearn.cluster import KMeans\n",
    "import pandas as pd\n",
    "from shutil import copy"
   ]
  },
  {
   "source": [
    "stitching images from one brain slice (e.g: data/processed/0) "
   ],
   "cell_type": "markdown",
   "metadata": {}
  },
  {
   "cell_type": "code",
   "execution_count": null,
   "metadata": {},
   "outputs": [],
   "source": [
    "path = ''"
   ]
  },
  {
   "cell_type": "code",
   "execution_count": null,
   "metadata": {},
   "outputs": [],
   "source": [
    "path_processed = list(Path('../../data/processed/0').glob('*.tif'))\n"
   ]
  },
  {
   "cell_type": "code",
   "execution_count": null,
   "metadata": {},
   "outputs": [],
   "source": []
  },
  {
   "cell_type": "code",
   "execution_count": null,
   "metadata": {},
   "outputs": [],
   "source": [
    "def extract_coordinate_re(filename):\n",
    "    coord_str = re.findall(r'\\[(.*?)\\]', str(filename))\n",
    "    coord_split = coord_str[0].split(',')\n",
    "    coord_int = np.array([int(coord_split[0]), int(coord_split[1])]) \n",
    "    return coord_int\n"
   ]
  },
  {
   "cell_type": "code",
   "execution_count": null,
   "metadata": {},
   "outputs": [],
   "source": [
    "#alternative using re\n",
    "coordinates_re = {}\n",
    "\n",
    "for filename in pathprocessed:\n",
    "    coord = extract_coordinate_re(filename)\n",
    "    coordinates_re[filename] = coord\n"
   ]
  },
  {
   "cell_type": "code",
   "execution_count": null,
   "metadata": {},
   "outputs": [],
   "source": [
    "df = pd.DataFrame(data=coordinates_re).transpose()\n",
    "df.columns = ['X', 'Y']\n",
    "df"
   ]
  }
 ]
}